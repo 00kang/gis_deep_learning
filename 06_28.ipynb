{
  "nbformat": 4,
  "nbformat_minor": 0,
  "metadata": {
    "colab": {
      "name": "06/28.ipynb",
      "provenance": [],
      "collapsed_sections": [],
      "authorship_tag": "ABX9TyOk6SRGVR+Zs1c5EHn2/996",
      "include_colab_link": true
    },
    "kernelspec": {
      "name": "python3",
      "display_name": "Python 3"
    },
    "language_info": {
      "name": "python"
    }
  },
  "cells": [
    {
      "cell_type": "markdown",
      "metadata": {
        "id": "view-in-github",
        "colab_type": "text"
      },
      "source": [
        "<a href=\"https://colab.research.google.com/github/00kang/gis_deep_learning/blob/main/06_28.ipynb\" target=\"_parent\"><img src=\"https://colab.research.google.com/assets/colab-badge.svg\" alt=\"Open In Colab\"/></a>"
      ]
    },
    {
      "cell_type": "markdown",
      "metadata": {
        "id": "NWNMgbnt1XSW"
      },
      "source": [
        "### Tensorflow 1"
      ]
    },
    {
      "cell_type": "code",
      "metadata": {
        "id": "rr0ARi8J1POJ"
      },
      "source": [
        "import numpy as np\n",
        "x = np.array([[1,1],[1,0],[0,1],[0,0]])\n",
        "y = np.array([[0],[1],[1],[0]])"
      ],
      "execution_count": 1,
      "outputs": []
    },
    {
      "cell_type": "code",
      "metadata": {
        "id": "8vhzfKnP1SH9"
      },
      "source": [
        "import tensorflow as tf\n",
        "model = tf.keras.Sequential([\n",
        "    #Dense1에 unit2개, 활성화함수 elu, inputshape은 첫번째 계층에서만, 튜플 값이 1개일때(값1, )\n",
        "    tf.keras.layers.Dense(units=2, activation='elu', input_shape=(2,)),  \n",
        "    tf.keras.layers.Dense(units=5, activation='elu'),\n",
        "    tf.keras.layers.Dense(units=7, activation='elu'),\n",
        "    tf.keras.layers.Dense(units=1, activation='sigmoid')\n",
        "])"
      ],
      "execution_count": 2,
      "outputs": []
    },
    {
      "cell_type": "code",
      "metadata": {
        "colab": {
          "base_uri": "https://localhost:8080/"
        },
        "id": "aSQ0fZ1n1T8W",
        "outputId": "d9b73204-589c-4d3c-96ef-445ecb5a33e0"
      },
      "source": [
        "model.compile(optimizer=tf.keras.optimizers.Adam(lr = 0.001), loss='mse')"
      ],
      "execution_count": 3,
      "outputs": [
        {
          "output_type": "stream",
          "text": [
            "/usr/local/lib/python3.7/dist-packages/tensorflow/python/keras/optimizer_v2/optimizer_v2.py:375: UserWarning: The `lr` argument is deprecated, use `learning_rate` instead.\n",
            "  \"The `lr` argument is deprecated, use `learning_rate` instead.\")\n"
          ],
          "name": "stderr"
        }
      ]
    },
    {
      "cell_type": "code",
      "metadata": {
        "colab": {
          "base_uri": "https://localhost:8080/"
        },
        "id": "PNjdXOgb1U3U",
        "outputId": "e23ec793-0598-4d6d-ae51-9633342d33c5"
      },
      "source": [
        "model.fit(x,y,epochs=100)"
      ],
      "execution_count": 5,
      "outputs": [
        {
          "output_type": "stream",
          "text": [
            "Epoch 1/100\n",
            "1/1 [==============================] - 1s 736ms/step - loss: 0.2398\n",
            "Epoch 2/100\n",
            "1/1 [==============================] - 0s 6ms/step - loss: 0.2395\n",
            "Epoch 3/100\n",
            "1/1 [==============================] - 0s 5ms/step - loss: 0.2392\n",
            "Epoch 4/100\n",
            "1/1 [==============================] - 0s 5ms/step - loss: 0.2389\n",
            "Epoch 5/100\n",
            "1/1 [==============================] - 0s 5ms/step - loss: 0.2386\n",
            "Epoch 6/100\n",
            "1/1 [==============================] - 0s 7ms/step - loss: 0.2382\n",
            "Epoch 7/100\n",
            "1/1 [==============================] - 0s 6ms/step - loss: 0.2379\n",
            "Epoch 8/100\n",
            "1/1 [==============================] - 0s 6ms/step - loss: 0.2376\n",
            "Epoch 9/100\n",
            "1/1 [==============================] - 0s 7ms/step - loss: 0.2373\n",
            "Epoch 10/100\n",
            "1/1 [==============================] - 0s 6ms/step - loss: 0.2371\n",
            "Epoch 11/100\n",
            "1/1 [==============================] - 0s 11ms/step - loss: 0.2368\n",
            "Epoch 12/100\n",
            "1/1 [==============================] - 0s 15ms/step - loss: 0.2365\n",
            "Epoch 13/100\n",
            "1/1 [==============================] - 0s 10ms/step - loss: 0.2362\n",
            "Epoch 14/100\n",
            "1/1 [==============================] - 0s 9ms/step - loss: 0.2359\n",
            "Epoch 15/100\n",
            "1/1 [==============================] - 0s 6ms/step - loss: 0.2356\n",
            "Epoch 16/100\n",
            "1/1 [==============================] - 0s 6ms/step - loss: 0.2353\n",
            "Epoch 17/100\n",
            "1/1 [==============================] - 0s 9ms/step - loss: 0.2350\n",
            "Epoch 18/100\n",
            "1/1 [==============================] - 0s 16ms/step - loss: 0.2347\n",
            "Epoch 19/100\n",
            "1/1 [==============================] - 0s 5ms/step - loss: 0.2344\n",
            "Epoch 20/100\n",
            "1/1 [==============================] - 0s 6ms/step - loss: 0.2341\n",
            "Epoch 21/100\n",
            "1/1 [==============================] - 0s 5ms/step - loss: 0.2338\n",
            "Epoch 22/100\n",
            "1/1 [==============================] - 0s 5ms/step - loss: 0.2335\n",
            "Epoch 23/100\n",
            "1/1 [==============================] - 0s 5ms/step - loss: 0.2332\n",
            "Epoch 24/100\n",
            "1/1 [==============================] - 0s 5ms/step - loss: 0.2330\n",
            "Epoch 25/100\n",
            "1/1 [==============================] - 0s 5ms/step - loss: 0.2326\n",
            "Epoch 26/100\n",
            "1/1 [==============================] - 0s 7ms/step - loss: 0.2323\n",
            "Epoch 27/100\n",
            "1/1 [==============================] - 0s 5ms/step - loss: 0.2320\n",
            "Epoch 28/100\n",
            "1/1 [==============================] - 0s 7ms/step - loss: 0.2317\n",
            "Epoch 29/100\n",
            "1/1 [==============================] - 0s 5ms/step - loss: 0.2314\n",
            "Epoch 30/100\n",
            "1/1 [==============================] - 0s 7ms/step - loss: 0.2311\n",
            "Epoch 31/100\n",
            "1/1 [==============================] - 0s 6ms/step - loss: 0.2308\n",
            "Epoch 32/100\n",
            "1/1 [==============================] - 0s 5ms/step - loss: 0.2305\n",
            "Epoch 33/100\n",
            "1/1 [==============================] - 0s 6ms/step - loss: 0.2302\n",
            "Epoch 34/100\n",
            "1/1 [==============================] - 0s 5ms/step - loss: 0.2298\n",
            "Epoch 35/100\n",
            "1/1 [==============================] - 0s 7ms/step - loss: 0.2295\n",
            "Epoch 36/100\n",
            "1/1 [==============================] - 0s 5ms/step - loss: 0.2292\n",
            "Epoch 37/100\n",
            "1/1 [==============================] - 0s 8ms/step - loss: 0.2289\n",
            "Epoch 38/100\n",
            "1/1 [==============================] - 0s 5ms/step - loss: 0.2285\n",
            "Epoch 39/100\n",
            "1/1 [==============================] - 0s 6ms/step - loss: 0.2282\n",
            "Epoch 40/100\n",
            "1/1 [==============================] - 0s 4ms/step - loss: 0.2278\n",
            "Epoch 41/100\n",
            "1/1 [==============================] - 0s 6ms/step - loss: 0.2275\n",
            "Epoch 42/100\n",
            "1/1 [==============================] - 0s 4ms/step - loss: 0.2272\n",
            "Epoch 43/100\n",
            "1/1 [==============================] - 0s 5ms/step - loss: 0.2268\n",
            "Epoch 44/100\n",
            "1/1 [==============================] - 0s 7ms/step - loss: 0.2265\n",
            "Epoch 45/100\n",
            "1/1 [==============================] - 0s 4ms/step - loss: 0.2261\n",
            "Epoch 46/100\n",
            "1/1 [==============================] - 0s 6ms/step - loss: 0.2258\n",
            "Epoch 47/100\n",
            "1/1 [==============================] - 0s 6ms/step - loss: 0.2254\n",
            "Epoch 48/100\n",
            "1/1 [==============================] - 0s 5ms/step - loss: 0.2250\n",
            "Epoch 49/100\n",
            "1/1 [==============================] - 0s 6ms/step - loss: 0.2247\n",
            "Epoch 50/100\n",
            "1/1 [==============================] - 0s 4ms/step - loss: 0.2243\n",
            "Epoch 51/100\n",
            "1/1 [==============================] - 0s 4ms/step - loss: 0.2239\n",
            "Epoch 52/100\n",
            "1/1 [==============================] - 0s 7ms/step - loss: 0.2235\n",
            "Epoch 53/100\n",
            "1/1 [==============================] - 0s 4ms/step - loss: 0.2232\n",
            "Epoch 54/100\n",
            "1/1 [==============================] - 0s 6ms/step - loss: 0.2228\n",
            "Epoch 55/100\n",
            "1/1 [==============================] - 0s 4ms/step - loss: 0.2224\n",
            "Epoch 56/100\n",
            "1/1 [==============================] - 0s 6ms/step - loss: 0.2220\n",
            "Epoch 57/100\n",
            "1/1 [==============================] - 0s 5ms/step - loss: 0.2216\n",
            "Epoch 58/100\n",
            "1/1 [==============================] - 0s 5ms/step - loss: 0.2212\n",
            "Epoch 59/100\n",
            "1/1 [==============================] - 0s 6ms/step - loss: 0.2208\n",
            "Epoch 60/100\n",
            "1/1 [==============================] - 0s 5ms/step - loss: 0.2204\n",
            "Epoch 61/100\n",
            "1/1 [==============================] - 0s 5ms/step - loss: 0.2200\n",
            "Epoch 62/100\n",
            "1/1 [==============================] - 0s 6ms/step - loss: 0.2196\n",
            "Epoch 63/100\n",
            "1/1 [==============================] - 0s 4ms/step - loss: 0.2192\n",
            "Epoch 64/100\n",
            "1/1 [==============================] - 0s 5ms/step - loss: 0.2188\n",
            "Epoch 65/100\n",
            "1/1 [==============================] - 0s 7ms/step - loss: 0.2183\n",
            "Epoch 66/100\n",
            "1/1 [==============================] - 0s 6ms/step - loss: 0.2179\n",
            "Epoch 67/100\n",
            "1/1 [==============================] - 0s 16ms/step - loss: 0.2175\n",
            "Epoch 68/100\n",
            "1/1 [==============================] - 0s 13ms/step - loss: 0.2170\n",
            "Epoch 69/100\n",
            "1/1 [==============================] - 0s 10ms/step - loss: 0.2166\n",
            "Epoch 70/100\n",
            "1/1 [==============================] - 0s 6ms/step - loss: 0.2162\n",
            "Epoch 71/100\n",
            "1/1 [==============================] - 0s 10ms/step - loss: 0.2157\n",
            "Epoch 72/100\n",
            "1/1 [==============================] - 0s 8ms/step - loss: 0.2153\n",
            "Epoch 73/100\n",
            "1/1 [==============================] - 0s 8ms/step - loss: 0.2148\n",
            "Epoch 74/100\n",
            "1/1 [==============================] - 0s 21ms/step - loss: 0.2144\n",
            "Epoch 75/100\n",
            "1/1 [==============================] - 0s 14ms/step - loss: 0.2139\n",
            "Epoch 76/100\n",
            "1/1 [==============================] - 0s 6ms/step - loss: 0.2135\n",
            "Epoch 77/100\n",
            "1/1 [==============================] - 0s 4ms/step - loss: 0.2130\n",
            "Epoch 78/100\n",
            "1/1 [==============================] - 0s 6ms/step - loss: 0.2125\n",
            "Epoch 79/100\n",
            "1/1 [==============================] - 0s 10ms/step - loss: 0.2121\n",
            "Epoch 80/100\n",
            "1/1 [==============================] - 0s 13ms/step - loss: 0.2116\n",
            "Epoch 81/100\n",
            "1/1 [==============================] - 0s 10ms/step - loss: 0.2111\n",
            "Epoch 82/100\n",
            "1/1 [==============================] - 0s 12ms/step - loss: 0.2106\n",
            "Epoch 83/100\n",
            "1/1 [==============================] - 0s 7ms/step - loss: 0.2101\n",
            "Epoch 84/100\n",
            "1/1 [==============================] - 0s 5ms/step - loss: 0.2096\n",
            "Epoch 85/100\n",
            "1/1 [==============================] - 0s 4ms/step - loss: 0.2091\n",
            "Epoch 86/100\n",
            "1/1 [==============================] - 0s 7ms/step - loss: 0.2086\n",
            "Epoch 87/100\n",
            "1/1 [==============================] - 0s 4ms/step - loss: 0.2081\n",
            "Epoch 88/100\n",
            "1/1 [==============================] - 0s 5ms/step - loss: 0.2076\n",
            "Epoch 89/100\n",
            "1/1 [==============================] - 0s 7ms/step - loss: 0.2071\n",
            "Epoch 90/100\n",
            "1/1 [==============================] - 0s 10ms/step - loss: 0.2066\n",
            "Epoch 91/100\n",
            "1/1 [==============================] - 0s 5ms/step - loss: 0.2061\n",
            "Epoch 92/100\n",
            "1/1 [==============================] - 0s 5ms/step - loss: 0.2055\n",
            "Epoch 93/100\n",
            "1/1 [==============================] - 0s 5ms/step - loss: 0.2050\n",
            "Epoch 94/100\n",
            "1/1 [==============================] - 0s 6ms/step - loss: 0.2045\n",
            "Epoch 95/100\n",
            "1/1 [==============================] - 0s 9ms/step - loss: 0.2039\n",
            "Epoch 96/100\n",
            "1/1 [==============================] - 0s 5ms/step - loss: 0.2034\n",
            "Epoch 97/100\n",
            "1/1 [==============================] - 0s 7ms/step - loss: 0.2028\n",
            "Epoch 98/100\n",
            "1/1 [==============================] - 0s 5ms/step - loss: 0.2022\n",
            "Epoch 99/100\n",
            "1/1 [==============================] - 0s 4ms/step - loss: 0.2017\n",
            "Epoch 100/100\n",
            "1/1 [==============================] - 0s 8ms/step - loss: 0.2011\n"
          ],
          "name": "stdout"
        },
        {
          "output_type": "execute_result",
          "data": {
            "text/plain": [
              "<tensorflow.python.keras.callbacks.History at 0x7fde416d3050>"
            ]
          },
          "metadata": {
            "tags": []
          },
          "execution_count": 5
        }
      ]
    },
    {
      "cell_type": "code",
      "metadata": {
        "colab": {
          "base_uri": "https://localhost:8080/"
        },
        "id": "1E3l141l1V8M",
        "outputId": "b66d7fbd-8091-4cfb-919d-5dd704178d5d"
      },
      "source": [
        "print(model.predict(x))"
      ],
      "execution_count": 6,
      "outputs": [
        {
          "output_type": "stream",
          "text": [
            "[[0.4750441 ]\n",
            " [0.5344586 ]\n",
            " [0.56471574]\n",
            " [0.41263983]]\n"
          ],
          "name": "stdout"
        }
      ]
    },
    {
      "cell_type": "code",
      "metadata": {
        "id": "c_AM3Cp41aQP"
      },
      "source": [
        ""
      ],
      "execution_count": null,
      "outputs": []
    }
  ]
}